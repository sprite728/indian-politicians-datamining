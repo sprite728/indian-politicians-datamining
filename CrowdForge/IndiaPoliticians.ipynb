{
 "metadata": {
  "name": ""
 },
 "nbformat": 3,
 "nbformat_minor": 0,
 "worksheets": [
  {
   "cells": [
    {
     "cell_type": "code",
     "collapsed": false,
     "input": [
      "ls"
     ],
     "language": "python",
     "metadata": {},
     "outputs": [
      {
       "output_type": "stream",
       "stream": "stdout",
       "text": [
        "IndiaPoliticians.ipynb  \u001b[1m\u001b[36mmedia\u001b[m\u001b[m/                  \u001b[1m\u001b[36mtemplates\u001b[m\u001b[m/\r\n",
        "\u001b[1m\u001b[31mREADME\u001b[m\u001b[m*                 politicians.db          \u001b[1m\u001b[31murls.py\u001b[m\u001b[m*\r\n",
        "\u001b[1m\u001b[31m__init__.py\u001b[m\u001b[m*            secret.py               urls.pyc\r\n",
        "__init__.pyc            secret.pyc              \u001b[1m\u001b[36mvenv\u001b[m\u001b[m/\r\n",
        "\u001b[1m\u001b[36mcrowdforge\u001b[m\u001b[m/             \u001b[1m\u001b[31msettings.py\u001b[m\u001b[m*\r\n",
        "\u001b[1m\u001b[31mmanage.py\u001b[m\u001b[m*              settings.pyc\r\n"
       ]
      }
     ],
     "prompt_number": 1
    },
    {
     "cell_type": "code",
     "collapsed": false,
     "input": [
      "ls"
     ],
     "language": "python",
     "metadata": {},
     "outputs": [
      {
       "output_type": "stream",
       "stream": "stdout",
       "text": [
        "IndiaPoliticians.ipynb  \u001b[1m\u001b[36mmedia\u001b[m\u001b[m/                  \u001b[1m\u001b[36mtemplates\u001b[m\u001b[m/\r\n",
        "\u001b[1m\u001b[31mREADME\u001b[m\u001b[m*                 politicians.db          \u001b[1m\u001b[31murls.py\u001b[m\u001b[m*\r\n",
        "\u001b[1m\u001b[31m__init__.py\u001b[m\u001b[m*            secret.py               urls.pyc\r\n",
        "__init__.pyc            secret.pyc              \u001b[1m\u001b[36mvenv\u001b[m\u001b[m/\r\n",
        "\u001b[1m\u001b[36mcrowdforge\u001b[m\u001b[m/             \u001b[1m\u001b[31msettings.py\u001b[m\u001b[m*\r\n",
        "\u001b[1m\u001b[31mmanage.py\u001b[m\u001b[m*              settings.pyc\r\n"
       ]
      }
     ],
     "prompt_number": 2
    },
    {
     "cell_type": "code",
     "collapsed": false,
     "input": [
      "cd crowdforge/"
     ],
     "language": "python",
     "metadata": {},
     "outputs": [
      {
       "output_type": "stream",
       "stream": "stdout",
       "text": [
        "/Users/jeff/Develop/indian-politicians-datamining/CrowdForge/crowdforge\n"
       ]
      }
     ],
     "prompt_number": 3
    },
    {
     "cell_type": "code",
     "collapsed": false,
     "input": [
      "ls\n"
     ],
     "language": "python",
     "metadata": {},
     "outputs": [
      {
       "output_type": "stream",
       "stream": "stdout",
       "text": [
        "\u001b[1m\u001b[31m__init__.py\u001b[m\u001b[m*  \u001b[1m\u001b[36mfixtures\u001b[m\u001b[m/     \u001b[1m\u001b[31mmodels.py\u001b[m\u001b[m*    urls.pyc      views.pyc\r\n",
        "__init__.pyc  \u001b[1m\u001b[31mflows.py\u001b[m\u001b[m*     models.pyc    \u001b[1m\u001b[31mutils.py\u001b[m\u001b[m*\r\n",
        "\u001b[1m\u001b[31madmin.py\u001b[m\u001b[m*     flows.pyc     \u001b[1m\u001b[31mtests.py\u001b[m\u001b[m*     utils.pyc\r\n",
        "admin.pyc     \u001b[1m\u001b[36mmanagement\u001b[m\u001b[m/   \u001b[1m\u001b[31murls.py\u001b[m\u001b[m*      \u001b[1m\u001b[31mviews.py\u001b[m\u001b[m*\r\n"
       ]
      }
     ],
     "prompt_number": 4
    },
    {
     "cell_type": "code",
     "collapsed": false,
     "input": [
      "cd ..\n"
     ],
     "language": "python",
     "metadata": {},
     "outputs": [
      {
       "output_type": "stream",
       "stream": "stdout",
       "text": [
        "/Users/jeff/Develop/indian-politicians-datamining/CrowdForge\n"
       ]
      }
     ],
     "prompt_number": 5
    },
    {
     "cell_type": "code",
     "collapsed": false,
     "input": [
      "ls .."
     ],
     "language": "python",
     "metadata": {},
     "outputs": [
      {
       "output_type": "stream",
       "stream": "stdout",
       "text": [
        "\u001b[1m\u001b[36mCrowdForge\u001b[m\u001b[m/                 twitter-india-politics.pem\r\n",
        "README.md\r\n"
       ]
      }
     ],
     "prompt_number": 6
    },
    {
     "cell_type": "code",
     "collapsed": false,
     "input": [
      "ls "
     ],
     "language": "python",
     "metadata": {},
     "outputs": [
      {
       "output_type": "stream",
       "stream": "stdout",
       "text": [
        "IndiaPoliticians.ipynb  \u001b[1m\u001b[36mmedia\u001b[m\u001b[m/                  \u001b[1m\u001b[36mtemplates\u001b[m\u001b[m/\r\n",
        "\u001b[1m\u001b[31mREADME\u001b[m\u001b[m*                 politicians.db          \u001b[1m\u001b[31murls.py\u001b[m\u001b[m*\r\n",
        "\u001b[1m\u001b[31m__init__.py\u001b[m\u001b[m*            secret.py               urls.pyc\r\n",
        "__init__.pyc            secret.pyc              \u001b[1m\u001b[36mvenv\u001b[m\u001b[m/\r\n",
        "\u001b[1m\u001b[36mcrowdforge\u001b[m\u001b[m/             \u001b[1m\u001b[31msettings.py\u001b[m\u001b[m*\r\n",
        "\u001b[1m\u001b[31mmanage.py\u001b[m\u001b[m*              settings.pyc\r\n"
       ]
      }
     ],
     "prompt_number": 7
    },
    {
     "cell_type": "code",
     "collapsed": false,
     "input": [
      "from pymongo import MongoClient\n",
      "\n",
      "client = MongoClient('dhcp3-234.si.umich.edu', 27017)\n"
     ],
     "language": "python",
     "metadata": {},
     "outputs": [],
     "prompt_number": 53
    },
    {
     "cell_type": "code",
     "collapsed": false,
     "input": [
      "client"
     ],
     "language": "python",
     "metadata": {},
     "outputs": [
      {
       "metadata": {},
       "output_type": "pyout",
       "prompt_number": 35,
       "text": [
        "MongoClient('dhcp3-234.si.umich.edu', 27017)"
       ]
      }
     ],
     "prompt_number": 35
    },
    {
     "cell_type": "code",
     "collapsed": false,
     "input": [
      "db = client.text_database"
     ],
     "language": "python",
     "metadata": {},
     "outputs": [],
     "prompt_number": 36
    },
    {
     "cell_type": "code",
     "collapsed": false,
     "input": [
      "db"
     ],
     "language": "python",
     "metadata": {},
     "outputs": [
      {
       "metadata": {},
       "output_type": "pyout",
       "prompt_number": 37,
       "text": [
        "Database(MongoClient('dhcp3-234.si.umich.edu', 27017), u'text_database')"
       ]
      }
     ],
     "prompt_number": 37
    },
    {
     "cell_type": "code",
     "collapsed": false,
     "input": [
      "collection = db.text_collection"
     ],
     "language": "python",
     "metadata": {},
     "outputs": [],
     "prompt_number": 38
    },
    {
     "cell_type": "code",
     "collapsed": false,
     "input": [
      "collection"
     ],
     "language": "python",
     "metadata": {},
     "outputs": [
      {
       "metadata": {},
       "output_type": "pyout",
       "prompt_number": 39,
       "text": [
        "Collection(Database(MongoClient('dhcp3-234.si.umich.edu', 27017), u'text_database'), u'text_collection')"
       ]
      }
     ],
     "prompt_number": 39
    },
    {
     "cell_type": "code",
     "collapsed": false,
     "input": [
      "import datetime\n",
      "\n",
      "post = {\"author\": \"Mike\",\n",
      "    \"text\": \"My first blog post!\",\n",
      "    \"tags\": [\"mongodb\", \"python\", \"pymongo\"],\n",
      "    \"date\": datetime.datetime.utcnow()}\n",
      "\n",
      "posts = db.posts"
     ],
     "language": "python",
     "metadata": {},
     "outputs": [],
     "prompt_number": 23
    },
    {
     "cell_type": "code",
     "collapsed": false,
     "input": [
      "post_id = posts.insert(post)\n",
      "post_id"
     ],
     "language": "python",
     "metadata": {},
     "outputs": [
      {
       "metadata": {},
       "output_type": "pyout",
       "prompt_number": 24,
       "text": [
        "ObjectId('52589ad0f39e10596738173b')"
       ]
      }
     ],
     "prompt_number": 24
    },
    {
     "cell_type": "code",
     "collapsed": false,
     "input": [
      "db.collection_names()\n"
     ],
     "language": "python",
     "metadata": {},
     "outputs": [
      {
       "metadata": {},
       "output_type": "pyout",
       "prompt_number": 40,
       "text": [
        "[]"
       ]
      }
     ],
     "prompt_number": 40
    },
    {
     "cell_type": "code",
     "collapsed": false,
     "input": [
      "db.test\n"
     ],
     "language": "python",
     "metadata": {},
     "outputs": [
      {
       "metadata": {},
       "output_type": "pyout",
       "prompt_number": 41,
       "text": [
        "Collection(Database(MongoClient('dhcp3-234.si.umich.edu', 27017), u'text_database'), u'test')"
       ]
      }
     ],
     "prompt_number": 41
    },
    {
     "cell_type": "code",
     "collapsed": false,
     "input": [
      "post = {\n",
      "        'name': 'jeff',\n",
      "        }"
     ],
     "language": "python",
     "metadata": {},
     "outputs": [],
     "prompt_number": 42
    },
    {
     "cell_type": "code",
     "collapsed": false,
     "input": [
      "db.test.insert(post)"
     ],
     "language": "python",
     "metadata": {},
     "outputs": [
      {
       "metadata": {},
       "output_type": "pyout",
       "prompt_number": 43,
       "text": [
        "ObjectId('52596a17f39e10596738173c')"
       ]
      }
     ],
     "prompt_number": 43
    },
    {
     "cell_type": "code",
     "collapsed": false,
     "input": [
      "db.test.count()"
     ],
     "language": "python",
     "metadata": {},
     "outputs": [
      {
       "metadata": {},
       "output_type": "pyout",
       "prompt_number": 47,
       "text": [
        "1"
       ]
      }
     ],
     "prompt_number": 47
    },
    {
     "cell_type": "code",
     "collapsed": false,
     "input": [
      "list(db.test.find())\n",
      "\n"
     ],
     "language": "python",
     "metadata": {},
     "outputs": [
      {
       "metadata": {},
       "output_type": "pyout",
       "prompt_number": 50,
       "text": [
        "[{u'_id': ObjectId('52596a17f39e10596738173c'), u'name': u'jeff'}]"
       ]
      }
     ],
     "prompt_number": 50
    },
    {
     "cell_type": "code",
     "collapsed": false,
     "input": [
      "db.test\n"
     ],
     "language": "python",
     "metadata": {},
     "outputs": [
      {
       "metadata": {},
       "output_type": "pyout",
       "prompt_number": 51,
       "text": [
        "Collection(Database(MongoClient('dhcp3-234.si.umich.edu', 27017), u'text_database'), u'test')"
       ]
      }
     ],
     "prompt_number": 51
    },
    {
     "cell_type": "code",
     "collapsed": false,
     "input": [
      "db."
     ],
     "language": "python",
     "metadata": {},
     "outputs": []
    }
   ],
   "metadata": {}
  }
 ]
}